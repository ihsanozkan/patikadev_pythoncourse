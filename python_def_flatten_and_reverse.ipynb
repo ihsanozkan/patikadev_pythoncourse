{
 "cells": [
  {
   "cell_type": "markdown",
   "id": "c85027cd",
   "metadata": {},
   "source": [
    "## Project 1\n",
    "    "
   ]
  },
  {
   "cell_type": "markdown",
   "id": "5cf434b2",
   "metadata": {},
   "source": [
    "* Write a function\n",
    "\n",
    "input: [[1,'a',['cat'],2],[[[3]],'dog'],4,5]\n",
    "\n",
    "output: [1,'a','cat',2,3,'dog',4,5]"
   ]
  },
  {
   "cell_type": "code",
   "execution_count": 25,
   "id": "12a8ba96",
   "metadata": {},
   "outputs": [
    {
     "name": "stdout",
     "output_type": "stream",
     "text": [
      "[1, 'a', 'cat', 2, 3, 'dog', 4, 5]\n"
     ]
    }
   ],
   "source": [
    "l = [[1,'a',['cat'],2],[[[3]],'dog'],4,5]\n",
    "\n",
    "def flatten(list):\n",
    "\n",
    "    l1 = []\n",
    "\n",
    "    for i in list:\n",
    "        if type(i)== type([list]):\n",
    "            l1.extend(flatten(i))\n",
    "\n",
    "        else:\n",
    "            l1.append(i)\n",
    "\n",
    "    return l1\n",
    "\n",
    "print(flatten(l))"
   ]
  },
  {
   "cell_type": "markdown",
   "id": "ece284d6",
   "metadata": {},
   "source": [
    "## Project 2\n",
    "\n",
    "* Write a function\n",
    "\n",
    "input: [[1, 2], [3, 4], [5, 6, 7]]\n",
    "\n",
    "output: [[[7, 6, 5], [4, 3], [2, 1]]"
   ]
  },
  {
   "cell_type": "code",
   "execution_count": 45,
   "id": "4538f7c2",
   "metadata": {},
   "outputs": [
    {
     "name": "stdout",
     "output_type": "stream",
     "text": [
      "[[7, 6, 5], [4, 3], [2, 1]]\n"
     ]
    }
   ],
   "source": [
    "l2 = [[1, 2], [3, 4], [5, 6, 7]]\n",
    "\n",
    "def reverse(list):\n",
    "\n",
    "    reverse_list = list.copy()\n",
    "\n",
    "    reverse_list.reverse()\n",
    "\n",
    "    for i in reverse_list:\n",
    "\n",
    "        if type(i) == type(list):\n",
    "            index = reverse_list.index(i)\n",
    "            y = reverse(i)\n",
    "            reverse_list[index] = y\n",
    "        else:\n",
    "            pass\n",
    "\n",
    "\n",
    "    return reverse_list\n",
    "\n",
    "\n",
    "print(reverse(l2))\n"
   ]
  }
 ],
 "metadata": {
  "kernelspec": {
   "display_name": "Python 3 (ipykernel)",
   "language": "python",
   "name": "python3"
  },
  "language_info": {
   "codemirror_mode": {
    "name": "ipython",
    "version": 3
   },
   "file_extension": ".py",
   "mimetype": "text/x-python",
   "name": "python",
   "nbconvert_exporter": "python",
   "pygments_lexer": "ipython3",
   "version": "3.11.2"
  }
 },
 "nbformat": 4,
 "nbformat_minor": 5
}
